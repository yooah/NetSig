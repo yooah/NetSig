{
 "cells": [
  {
   "cell_type": "code",
   "execution_count": 1,
   "metadata": {
    "scrolled": false
   },
   "outputs": [
    {
     "data": {
      "text/plain": [
       "'\\ncompute correlation between expression and sigma signatures\\ncreate discretize matrix \\n    1: posivitely correlated (pv <th)\\n    0: no correlation\\n    -1: negatively correlated (pv <th)\\nfor sig1, 2, 3, 5, 8, 13 (level and count)\\n\\n'"
      ]
     },
     "execution_count": 1,
     "metadata": {},
     "output_type": "execute_result"
    }
   ],
   "source": [
    "\"\"\"\n",
    "compute spearman correlation between expression and sigma signatures\n",
    "output correaltion coefficents, pv\n",
    "\n",
    "input files:\n",
    "expr_file = \"data/common_brca_expr_pid.tsv\"\n",
    "sigma_file = \"data/common_sigma_count.tsv\"\n",
    "\n",
    "output files:\n",
    "corr file = \"../results/corr_expr_sigma_count.tsv\"\n",
    "pv_file = \"../results/corr_pv_expr_sigma_count.tsv\"\n",
    "\n",
    "See corr_analysis.ipynb for subsequent analysis\n",
    "\"\"\""
   ]
  },
  {
   "cell_type": "code",
   "execution_count": 1,
   "metadata": {},
   "outputs": [],
   "source": [
    "import pandas as pd\n",
    "import numpy as np\n",
    "import scipy.stats as ss"
   ]
  },
  {
   "cell_type": "code",
   "execution_count": 67,
   "metadata": {},
   "outputs": [],
   "source": [
    "# input files \n",
    "# the first two columns of expr file are id (sequential) and gene name\n",
    "expr_file = \"data/common_brca_expr_pid.tsv\"\n",
    "sigma_file = \"data/common_sigma_count.tsv\""
   ]
  },
  {
   "cell_type": "code",
   "execution_count": 68,
   "metadata": {},
   "outputs": [],
   "source": [
    "# read gene expression data\n",
    "brca_expr = pd.read_csv(expr_file, sep=\"\\t\", index_col=0)\n",
    "brca_expr_df = brca_expr.iloc[:,1:] \n",
    "brca_expr_genes = brca_expr.Name \n",
    "# read signature data\n",
    "sigma_count_df = pd.read_csv(sigma_file, sep=\"\\t\", index_col=0)"
   ]
  },
  {
   "cell_type": "code",
   "execution_count": 69,
   "metadata": {},
   "outputs": [],
   "source": [
    "def comp_corr(x_col, y_col, nan_th=30):\n",
    "    \"\"\"\n",
    "    compute correlation of x_col  and y_col\n",
    "    x_col: expression\n",
    "    y_col: sig count\n",
    "    nan_th: allow some NaN as long as valid elements > nan_th\n",
    "    \"\"\"\n",
    "    if (~x_col.isnull()).sum() >= nan_th:  \n",
    "        corr, pv = ss.spearmanr(x_col, y_col, nan_policy='omit')\n",
    "    else:\n",
    "        corr, pv = 0, 1 # if not enough samples\n",
    "    return corr, pv\n",
    "\n",
    "def comp_corr_all(x_df, y_df):\n",
    "    \"\"\"\n",
    "    spearman correlation between gene expression and signatures\n",
    "\n",
    "    :param x_df: gene expression DataFrame : samples (rows) X genes (columns)  \n",
    "    :param y_df: signature DataFrame: samples (rows) X signatures (columns) \n",
    "    :return: corr_df (x*y) \n",
    "    \"\"\"\n",
    "    # compute correlation\n",
    "    corr_df = pd.DataFrame(index=x_df.columns, columns=y_df.columns)\n",
    "    pv_df = pd.DataFrame(index=x_df.columns, columns=y_df.columns)  \n",
    "    for j in range(y_df.shape[1]):\n",
    "        print(y_df.columns[j])\n",
    "        corr_results = [comp_corr(x_df.iloc[:,i], y_df.iloc[:, j]) for i in range(x_df.shape[1])]\n",
    "        # print(corr_results)\n",
    "        corr_list, pv_list = tuple(zip(*corr_results))\n",
    "        corr_df.iloc[:,j] = corr_list\n",
    "        pv_df.iloc[:,j] = pv_list\n",
    "    return corr_df, pv_df"
   ]
  },
  {
   "cell_type": "code",
   "execution_count": 70,
   "metadata": {},
   "outputs": [
    {
     "name": "stdout",
     "output_type": "stream",
     "text": [
      "1C\n",
      "1D\n",
      "2C\n",
      "2D\n",
      "3C\n",
      "3D\n",
      "5C\n",
      "5D\n",
      "8C\n",
      "8D\n",
      "13C\n",
      "13D\n"
     ]
    }
   ],
   "source": [
    "# run correlation func or read correlation results for sig 1 2, 3, 5, 8, and 13 only\n",
    "\n",
    "sigs_of_interest = [\"1C\", \"1D\", \"2C\", \"2D\", \"3C\", \"3D\", \"5C\", \"5D\", \"8C\", \"8D\", \"13C\", \"13D\"]\n",
    "corr_df, pv_df = comp_corr_all(brca_expr_df.T, sigma_count_df.T[sigs_of_interest])\n",
    "\n",
    "# write the results\n",
    "corr_df.index = brca_expr_genes\n",
    "pv_df.index = brca_expr_genes"
   ]
  },
  {
   "cell_type": "code",
   "execution_count": 62,
   "metadata": {
    "scrolled": true
   },
   "outputs": [],
   "source": [
    "corr_count.to_csv(\"results/corr_expr_sigma_count.tsv\", sep=\"\\t\")\n",
    "pv_count.to_csv(\"results/corr_pv_expr_sigma_count.tsv\", sep=\"\\t\")"
   ]
  }
 ],
 "metadata": {
  "kernelspec": {
   "display_name": "Python 3",
   "language": "python",
   "name": "python3"
  },
  "language_info": {
   "codemirror_mode": {
    "name": "ipython",
    "version": 3
   },
   "file_extension": ".py",
   "mimetype": "text/x-python",
   "name": "python",
   "nbconvert_exporter": "python",
   "pygments_lexer": "ipython3",
   "version": "3.6.2"
  }
 },
 "nbformat": 4,
 "nbformat_minor": 2
}
