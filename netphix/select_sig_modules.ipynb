{
 "cells": [
  {
   "cell_type": "code",
   "execution_count": null,
   "metadata": {},
   "outputs": [],
   "source": [
    "\"\"\" select the best module for each signature\n",
    "\"\"\""
   ]
  },
  {
   "cell_type": "code",
   "execution_count": 2,
   "metadata": {},
   "outputs": [],
   "source": [
    "import sys\n",
    "sys.path.append('../')\n",
    "import os\n",
    "import pandas as pd\n",
    "from importlib import reload  # Python 3.4+ only.\n",
    "import statsmodels.stats.multitest as multitest\n",
    "import scipy.stats as ss\n",
    "import numpy as np\n",
    "import networkx as nx\n",
    "\n",
    "home_dir=\"/home/kimy3/Projects/NetPhix/NetPhix/\"\n",
    "result_dir = home_dir+\"results/\""
   ]
  },
  {
   "cell_type": "code",
   "execution_count": 9,
   "metadata": {},
   "outputs": [
    {
     "name": "stdout",
     "output_type": "stream",
     "text": [
      "2C\n",
      "2D\n",
      "3C\n",
      "3D\n",
      "8C\n",
      "13C\n",
      "13D\n"
     ]
    }
   ],
   "source": [
    "# read all modules and compute FDR \n",
    "pvs_all= []\n",
    "rows = []\n",
    "sig_list = ['2C', '2D', '3C', '3D','8C', '13C', '13D']\n",
    "for sig in sig_list:\n",
    "    print(sig)\n",
    "    for k in range(1, 8):       \n",
    "        sol_name = result_dir+\"netphix_results\"+sig+\".txt\"\n",
    "        if os.path.isfile(sol_name) is False:\n",
    "            print(\"not found\")\n",
    "            continue\n",
    "        solution_dics, cost, p  = netphix.read_solutionfile(sol_name)\n",
    "        if len(solution_dics) < 1:\n",
    "            continue\n",
    "        pvs_all.append(p)\n",
    "        selected_muts = solution_dics[0][\"selected_muts\"]\n",
    "        time = solution_dics[0][\"time\"]\n",
    "        rows.append((sig,  k, cost, \",\".join(selected_muts), time, p))\n",
    "            \n",
    "columns = [\"sig\", \"k\", \"TotCost\",  \"selected\", \"time\", \"pv\"]\n",
    "modules_df = pd.DataFrame(rows, columns = columns) \n",
    "fdr_results = multitest.multipletests(pvs_all, alpha=0.1, method=\"fdr_bh\")\n",
    "modules_df[\"adj-p(BH)\"] = fdr_results[1]\n",
    "modules_df[\"FDR <= 0.1\"] = fdr_results[0]\n",
    "\n",
    "modules_df['TotCost'] = modules_df['TotCost'].map(lambda x: '%2.1f' % x)\n",
    "modules_df['pv'] = modules_df['pv'].map(lambda x: '%.4f' % x)\n",
    "modules_df['adj-p(BH)'] = modules_df[\"adj-p(BH)\"].map(lambda x: '%.4f' % x)\n"
   ]
  },
  {
   "cell_type": "code",
   "execution_count": 29,
   "metadata": {},
   "outputs": [
    {
     "name": "stdout",
     "output_type": "stream",
     "text": [
      "2C\n",
      "sig at 3\n",
      "2D\n",
      "sig at 3\n",
      "3C\n",
      "sig at 3\n",
      "3D\n",
      "sig at 2\n",
      "8C\n",
      "sig at 2\n",
      "13C\n",
      "sig at 3\n",
      "13D\n",
      "sig at 3\n"
     ]
    }
   ],
   "source": [
    "# select best modules for each signature\n",
    "def select_best_module(exp, itr_th, pv_th):\n",
    "    \"\"\"\n",
    "    exp: modules with different parameteres for a sig\n",
    "    itr_th: improvement threshold for each iteration\n",
    "    pv_th: pvalue threshold \n",
    "    \"\"\"\n",
    "    exp.sort_values(\"k\")\n",
    "    costs = exp[\"TotCost\"].astype(float).values\n",
    "    pvs = exp[\"pv\"].astype(float).values\n",
    "    cost_dif = [costs[j]/costs[j-1] -1 for j in range(1, len(costs))]\n",
    "    for j in range(5):\n",
    "        k1 = j+1\n",
    "        if (j == 4) or (cost_dif[j] <= itr_th) or (pvs[j+1] > pvs[j]):  # improvement is not significant or pv getting worse\n",
    "            if (pvs[j] < pv_th):\n",
    "                print(\"sig at \"+str(k1))\n",
    "                return exp.iloc[j,:]\n",
    "            else:\n",
    "                print(\"stop at \"+str(k1)+\" but not sig\")\n",
    "                return None\n",
    "            break\n",
    "\n",
    "cost_dic, pvs_dic = {}, {}\n",
    "rows = []\n",
    "itr_th, pv_th = 0.05,0.05\n",
    "# DF for selected modules\n",
    "selected_df = pd.DataFrame(columns=columns+[\"adj-p(BH)\"])\n",
    "\n",
    "for sig in sig_list:\n",
    "    print(sig)\n",
    "    exp = modules_df[(modules_df[\"sig\"] == sig)]\n",
    "    selected = select_best_module(exp, itr_th, pv_th)\n",
    "    if selected is not None:\n",
    "        selected_df = selected_df.append(selected,ignore_index=True)"
   ]
  }
 ],
 "metadata": {
  "kernelspec": {
   "display_name": "Python 3",
   "language": "python",
   "name": "python3"
  },
  "language_info": {
   "codemirror_mode": {
    "name": "ipython",
    "version": 3
   },
   "file_extension": ".py",
   "mimetype": "text/x-python",
   "name": "python",
   "nbconvert_exporter": "python",
   "pygments_lexer": "ipython3",
   "version": "3.6.2"
  }
 },
 "nbformat": 4,
 "nbformat_minor": 2
}
